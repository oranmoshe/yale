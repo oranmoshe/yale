{
 "cells": [
  {
   "cell_type": "code",
   "execution_count": null,
   "metadata": {
    "collapsed": false
   },
   "outputs": [
    {
     "name": "stderr",
     "output_type": "stream",
     "text": [
      " * Running on http://0.0.0.0:5000/ (Press CTRL+C to quit)\n",
      "127.0.0.1 - - [02/Jan/2017 12:26:13] \"GET /product/men HTTP/1.1\" 200 -\n"
     ]
    }
   ],
   "source": [
    "from flask import Flask, url_for, json,Response\n",
    "app = Flask(__name__)\n",
    "import requests,os\n",
    "from requests_oauthlib import OAuth1\n",
    "from requests import get\n",
    "from json import loads\n",
    "\n",
    "# height:{200,42,84}\n",
    "def getIconByTerm(term,height):\n",
    "    auth = OAuth1(\"85a512e87dce48dba9ea17e2f770e044\", \"2a1a3389bc624597a54e9af0adb18403\")\n",
    "    endpoint = \"http://api.thenounproject.com/icon/\" + term\n",
    "    response = requests.get(endpoint, auth=auth)\n",
    "    #print d['glossary']['title']\n",
    "    if(response.status_code==200):\n",
    "        response = (response.content).decode(\"utf-8\");\n",
    "        js = json.loads(response)\n",
    "        if(height==\"200\"):\n",
    "            height = \"\"\n",
    "        else:\n",
    "            height = \"_\"+height\n",
    "        return js['icon']['preview_url'+height+'']\n",
    "    \n",
    "def getQuot():\n",
    "    response = get('http://api.forismatic.com/api/1.0/?method=getQuote&format=json&lang=en')\n",
    "    if(response.status_code==200):\n",
    "        response = (response.content).decode(\"utf-8\")\n",
    "        js = json.loads(response)\n",
    "        return js['quoteText']\n",
    "    \n",
    "#size {full,regular,small,raw,thumb}\n",
    "def getRandomImage(query,size):\n",
    "    payload = {'client_id':'1c0bb206a9c3cfdd323a17038e7ffea88053a03fd42e23e20f12cfd766fa8107','query':query}\n",
    "    r = requests.get('https://api.unsplash.com/photos/random', params = payload)\n",
    "    if(r.status_code==200):\n",
    "        response = r.json()\n",
    "        data = {}\n",
    "        data[\"url\"] = response[\"urls\"][size]\n",
    "        return data\n",
    "    \n",
    "@app.route('/product/<query>', methods = ['GET'])\n",
    "def api_hello(query):\n",
    "    data = {}\n",
    "    data[\"icon\"] = getIconByTerm(query,\"200\")\n",
    "    image = getRandomImage(query,\"regular\")\n",
    "    data[\"image_url\"] = image[\"url\"]\n",
    "\n",
    "    data[\"quot\"] = getQuot()\n",
    "    json_data = json.dumps(data)\n",
    "\n",
    "    resp = Response(json_data, status=200, mimetype='application/json')\n",
    "    resp.headers['Link'] = 'http://yo.com'\n",
    "\n",
    "    return resp\n",
    "\n",
    "if __name__ == '__main__':\n",
    "    # Bind to PORT if defined, otherwise default to 5000.\n",
    "    port = int(os.environ.get('PORT', 5000))\n",
    "    app.run(host='0.0.0.0', port=port)"
   ]
  },
  {
   "cell_type": "code",
   "execution_count": null,
   "metadata": {
    "collapsed": true
   },
   "outputs": [],
   "source": []
  }
 ],
 "metadata": {
  "anaconda-cloud": {},
  "kernelspec": {
   "display_name": "Python [default]",
   "language": "python",
   "name": "python3"
  },
  "language_info": {
   "codemirror_mode": {
    "name": "ipython",
    "version": 3
   },
   "file_extension": ".py",
   "mimetype": "text/x-python",
   "name": "python",
   "nbconvert_exporter": "python",
   "pygments_lexer": "ipython3",
   "version": "3.5.2"
  }
 },
 "nbformat": 4,
 "nbformat_minor": 1
}
