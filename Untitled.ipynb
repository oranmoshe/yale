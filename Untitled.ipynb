{
 "cells": [
  {
   "cell_type": "code",
   "execution_count": 1,
   "metadata": {
    "collapsed": false
   },
   "outputs": [
    {
     "ename": "NameError",
     "evalue": "name '__file__' is not defined",
     "output_type": "error",
     "traceback": [
      "\u001b[0;31m---------------------------------------------------------------------------\u001b[0m",
      "\u001b[0;31mNameError\u001b[0m                                 Traceback (most recent call last)",
      "\u001b[0;32m<ipython-input-1-2d234534ea1f>\u001b[0m in \u001b[0;36m<module>\u001b[0;34m()\u001b[0m\n\u001b[1;32m      7\u001b[0m \u001b[0;32mfrom\u001b[0m \u001b[0mjson\u001b[0m \u001b[0;32mimport\u001b[0m \u001b[0mloads\u001b[0m\u001b[0;34m\u001b[0m\u001b[0m\n\u001b[1;32m      8\u001b[0m \u001b[0;34m\u001b[0m\u001b[0m\n\u001b[0;32m----> 9\u001b[0;31m \u001b[0mtmpl_dir\u001b[0m \u001b[0;34m=\u001b[0m \u001b[0mos\u001b[0m\u001b[0;34m.\u001b[0m\u001b[0mpath\u001b[0m\u001b[0;34m.\u001b[0m\u001b[0mjoin\u001b[0m\u001b[0;34m(\u001b[0m\u001b[0mos\u001b[0m\u001b[0;34m.\u001b[0m\u001b[0mpath\u001b[0m\u001b[0;34m.\u001b[0m\u001b[0mdirname\u001b[0m\u001b[0;34m(\u001b[0m\u001b[0mos\u001b[0m\u001b[0;34m.\u001b[0m\u001b[0mpath\u001b[0m\u001b[0;34m.\u001b[0m\u001b[0mabspath\u001b[0m\u001b[0;34m(\u001b[0m\u001b[0m__file__\u001b[0m\u001b[0;34m)\u001b[0m\u001b[0;34m)\u001b[0m\u001b[0;34m,\u001b[0m \u001b[0;34m'templates'\u001b[0m\u001b[0;34m)\u001b[0m\u001b[0;34m\u001b[0m\u001b[0m\n\u001b[0m\u001b[1;32m     10\u001b[0m \u001b[0mapp\u001b[0m \u001b[0;34m=\u001b[0m \u001b[0mFlask\u001b[0m\u001b[0;34m(\u001b[0m\u001b[0m__name__\u001b[0m\u001b[0;34m,\u001b[0m \u001b[0mtemplate_folder\u001b[0m\u001b[0;34m=\u001b[0m\u001b[0mtmpl_dir\u001b[0m\u001b[0;34m)\u001b[0m\u001b[0;34m\u001b[0m\u001b[0m\n\u001b[1;32m     11\u001b[0m \u001b[0;34m\u001b[0m\u001b[0m\n",
      "\u001b[0;31mNameError\u001b[0m: name '__file__' is not defined"
     ]
    }
   ],
   "source": [
    "from flask import Flask, url_for, json,Response\n",
    "\n",
    "\n",
    "import requests,os\n",
    "from requests_oauthlib import OAuth1\n",
    "from requests import get\n",
    "from json import loads\n",
    "\n",
    "tmpl_dir = os.path.join(os.path.dirname(os.path.abspath(__file__)), 'templates')\n",
    "app = Flask(__name__, template_folder=tmpl_dir)\n",
    "\n",
    "# height:{200,42,84}\n",
    "def getIconByTerm(term,height):\n",
    "    auth = OAuth1(\"85a512e87dce48dba9ea17e2f770e044\", \"2a1a3389bc624597a54e9af0adb18403\")\n",
    "    endpoint = \"http://api.thenounproject.com/icon/\" + term\n",
    "    response = requests.get(endpoint, auth=auth)\n",
    "    #print d['glossary']['title']\n",
    "    if(response.status_code==200):\n",
    "        response = (response.content).decode(\"utf-8\");\n",
    "        js = json.loads(response)\n",
    "        return js['icon_url']\n",
    "    \n",
    "def getQuot():\n",
    "    response = get('http://api.forismatic.com/api/1.0/?method=getQuote&format=json&lang=en')\n",
    "    if(response.status_code==200):\n",
    "        response = (response.content).decode(\"utf-8\")\n",
    "        js = json.loads(response)\n",
    "        return js['quoteText']\n",
    "    \n",
    "#size {full,regular,small,raw,thumb}\n",
    "def getRandomImage(query,size):\n",
    "    payload = {'client_id':'1c0bb206a9c3cfdd323a17038e7ffea88053a03fd42e23e20f12cfd766fa8107','query':query}\n",
    "    r = requests.get('https://api.unsplash.com/photos/random', params = payload)\n",
    "    if(r.status_code==200):\n",
    "        response = r.json()\n",
    "        data = {}\n",
    "        data[\"url\"] = response[\"urls\"][size]\n",
    "        data[\"name\"] = response[\"user\"][\"name\"]\n",
    "        return data\n",
    "    \n",
    "@app.route('/product/<query>', methods = ['GET'])\n",
    "def api_hello(query):\n",
    "    data = {}\n",
    "    data[\"icon\"] = getIconByTerm(query,\"200\")\n",
    "    image = getRandomImage(query,\"regular\")\n",
    "    data[\"image_url\"] = image[\"url\"]\n",
    "    data[\"image_credit\"] = image[\"name\"]\n",
    "    data[\"quot\"] = getQuot()\n",
    "    json_data = json.dumps(data)\n",
    "\n",
    "    resp = Response(json_data, status=200, mimetype='application/json')\n",
    "    resp.headers['Link'] = 'http://yo.com'\n",
    "\n",
    "    return resp\n",
    "\n",
    "\n",
    "@app.route('/')\n",
    "def root():\n",
    "    return app.send_static_file('index.html')\n",
    "\n",
    "\n",
    "if __name__ == '__main__':\n",
    "    # Bind to PORT if defined, otherwise default to 5000.\n",
    "    port = int(os.environ.get('PORT', 5000))\n",
    "    app.run(host='0.0.0.0', port=port)"
   ]
  },
  {
   "cell_type": "code",
   "execution_count": null,
   "metadata": {
    "collapsed": true
   },
   "outputs": [],
   "source": []
  }
 ],
 "metadata": {
  "anaconda-cloud": {},
  "kernelspec": {
   "display_name": "Python [default]",
   "language": "python",
   "name": "python3"
  },
  "language_info": {
   "codemirror_mode": {
    "name": "ipython",
    "version": 3
   },
   "file_extension": ".py",
   "mimetype": "text/x-python",
   "name": "python",
   "nbconvert_exporter": "python",
   "pygments_lexer": "ipython3",
   "version": "3.5.2"
  }
 },
 "nbformat": 4,
 "nbformat_minor": 1
}
